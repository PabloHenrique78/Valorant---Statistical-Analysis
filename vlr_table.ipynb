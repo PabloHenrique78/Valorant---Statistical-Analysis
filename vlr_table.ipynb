{
 "cells": [
  {
   "cell_type": "code",
   "execution_count": 2,
   "metadata": {},
   "outputs": [
    {
     "ename": "ModuleNotFoundError",
     "evalue": "No module named 'selenium'",
     "output_type": "error",
     "traceback": [
      "\u001b[1;31m---------------------------------------------------------------------------\u001b[0m",
      "\u001b[1;31mModuleNotFoundError\u001b[0m                       Traceback (most recent call last)",
      "Cell \u001b[1;32mIn[2], line 1\u001b[0m\n\u001b[1;32m----> 1\u001b[0m \u001b[38;5;28;01mfrom\u001b[39;00m \u001b[38;5;21;01mselenium\u001b[39;00m \u001b[38;5;28;01mimport\u001b[39;00m webdriver\n\u001b[0;32m      2\u001b[0m \u001b[38;5;28;01mfrom\u001b[39;00m \u001b[38;5;21;01mselenium\u001b[39;00m\u001b[38;5;21;01m.\u001b[39;00m\u001b[38;5;21;01mwebdriver\u001b[39;00m\u001b[38;5;21;01m.\u001b[39;00m\u001b[38;5;21;01mchrome\u001b[39;00m\u001b[38;5;21;01m.\u001b[39;00m\u001b[38;5;21;01mservice\u001b[39;00m \u001b[38;5;28;01mimport\u001b[39;00m Service\n\u001b[0;32m      3\u001b[0m \u001b[38;5;28;01mfrom\u001b[39;00m \u001b[38;5;21;01mselenium\u001b[39;00m\u001b[38;5;21;01m.\u001b[39;00m\u001b[38;5;21;01mwebdriver\u001b[39;00m\u001b[38;5;21;01m.\u001b[39;00m\u001b[38;5;21;01mcommon\u001b[39;00m\u001b[38;5;21;01m.\u001b[39;00m\u001b[38;5;21;01mby\u001b[39;00m \u001b[38;5;28;01mimport\u001b[39;00m By\n",
      "\u001b[1;31mModuleNotFoundError\u001b[0m: No module named 'selenium'"
     ]
    }
   ],
   "source": [
    "from selenium import webdriver\n",
    "from selenium.webdriver.chrome.service import Service\n",
    "from selenium.webdriver.common.by import By\n",
    "import time\n",
    "import pandas as pd\n",
    "import os\n",
    "from selenium.webdriver.support.wait import WebDriverWait\n",
    "from selenium.webdriver.support import expected_conditions as EC\n",
    "import pyperclip as pc\n",
    "import pyautogui \n",
    "import re\n",
    "import seaborn as sns\n",
    "import matplotlib.pyplot as plt\n",
    "from selenium.common.exceptions import NoSuchElementException"
   ]
  },
  {
   "cell_type": "markdown",
   "metadata": {},
   "source": [
    "## COLETANDO OS DADOS DOS playerES "
   ]
  },
  {
   "cell_type": "code",
   "execution_count": null,
   "metadata": {},
   "outputs": [
    {
     "name": "stdout",
     "output_type": "stream",
     "text": [
      "Dados para o site https://www.vlr.gg/event/stats/2095/champions-tour-2024-americas-stage-2 concluídos.\n",
      "Dados para o site https://www.vlr.gg/event/stats/2005/champions-tour-2024-pacific-stage-2 concluídos.\n",
      "Dados para o site https://www.vlr.gg/event/stats/2094/champions-tour-2024-emea-stage-2 concluídos.\n",
      "   PLAYER  TIME  RND     R    ACS    KD KAST    ADR   KPR   APR  ...  FDPR  \\\n",
      "0   aspas   LEV  479  1.35  269.0  1.52  77%  169.8  0.94  0.20  ...  0.11   \n",
      "1   kiNgg   LEV  479  1.20  209.8  1.31  81%  134.0  0.76  0.40  ...  0.07   \n",
      "2  Mazino   LEV  479  1.16  228.6  1.23  79%  150.9  0.82  0.45  ...  0.07   \n",
      "3  zekken   SEN  217  1.13  273.7  1.15  71%  178.4  0.90  0.25  ...  0.18   \n",
      "4    eeiu  100T  411  1.13  200.5  1.17  77%  135.7  0.71  0.35  ...  0.02   \n",
      "\n",
      "    HS   CL    CL% KMAX    K    D    A   FK  FD  \n",
      "0  27%  13%   6/45   27  451  297   95  105  55  \n",
      "1  28%  17%   8/48   23  362  276  190   49  33  \n",
      "2  28%   6%   2/31   34  395  322  217   41  33  \n",
      "3  27%   9%   1/11   28  195  169   55   53  39  \n",
      "4  31%  16%  13/82   26  292  250  143   19  10  \n",
      "\n",
      "[5 rows x 21 columns]\n"
     ]
    }
   ],
   "source": [
    "browser = webdriver.Chrome()\n",
    "\n",
    "table = pd.read_excel(\"stats.xlsx\")\n",
    "columns = table.columns.to_list()\n",
    "\n",
    "def Value_filter(text):\n",
    "    text = [item for item in text if not re.search(r'\\(\\+\\d+\\)', item)] \n",
    "    return [item for item in text if item.strip()]\n",
    "\n",
    "sites = [\n",
    "    'https://www.vlr.gg/event/stats/2095/champions-tour-2024-americas-stage-2',\n",
    "    'https://www.vlr.gg/event/stats/2005/champions-tour-2024-pacific-stage-2',\n",
    "    'https://www.vlr.gg/event/stats/2094/champions-tour-2024-emea-stage-2'\n",
    "]\n",
    "\n",
    "line = 0\n",
    "for site in sites:\n",
    "    browser.get(site)\n",
    "    player = 1\n",
    "    while True:\n",
    "        try:\n",
    "            #Try locate the element in table\n",
    "            element = browser.find_element(By.XPATH, f'//*[@id=\"wrapper\"]/div[1]/div/div[2]/div/table/tbody/tr[{player}]')\n",
    "            name = element.text\n",
    "            lista = name.split()\n",
    "\n",
    "            lista = Value_filter(lista) #Filter values ​​between parentheses and blanks\n",
    "\n",
    "            if len(lista) > len(columns):\n",
    "                lista = lista[:len(columns)]\n",
    "\n",
    "            for j, valor in enumerate(lista):\n",
    "                if j < len(columns):  \n",
    "                    table.at[line, columns[j]] = valor\n",
    "                    \n",
    "            player += 1\n",
    "            line += 1\n",
    "\n",
    "        except NoSuchElementException:\n",
    "            print(f\"Dados para o site {site} concluídos.\") # If the element cannot be found, it means that the data ended up on the current page\n",
    "            break \n",
    "\n",
    "print(table.head())\n",
    "\n",
    "table_geral = table.drop(columns=[table.columns[0]]) \n",
    "table.to_excel('stats_completo.xlsx', index=False)\n",
    "\n",
    "browser.quit()"
   ]
  }
 ],
 "metadata": {
  "kernelspec": {
   "display_name": "Python 3",
   "language": "python",
   "name": "python3"
  },
  "language_info": {
   "codemirror_mode": {
    "name": "ipython",
    "version": 3
   },
   "file_extension": ".py",
   "mimetype": "text/x-python",
   "name": "python",
   "nbconvert_exporter": "python",
   "pygments_lexer": "ipython3",
   "version": "3.12.4"
  }
 },
 "nbformat": 4,
 "nbformat_minor": 2
}
